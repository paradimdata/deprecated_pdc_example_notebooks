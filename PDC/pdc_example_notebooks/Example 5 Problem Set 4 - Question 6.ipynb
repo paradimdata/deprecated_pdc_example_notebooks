{
 "cells": [
  {
   "cell_type": "markdown",
   "metadata": {},
   "source": [
    "## UCSD Nano 106, Spring 2014 — Crystallography of Materials\n",
    "\n",
    "modified from Prof. Shyue Ping Ong.  Uses Kernel 2.7.x\n",
    "\n",
    "#### Problem Set 4, Question 6.\n",
    "The perovskite crystal structure is an important class of materials with many technological applications. PbTiO<sub></sub> is an important ferroelectric material that crystallizes in a tetragonal form of this crystal structure. According to an experimental entry in the ICSD, PbTiO<sub></sub> has spacegroup P4mm (99) and lattice parameters {3.9039, 3.9039, 4.1348, 90, 90, 90} and atomic positions:\n",
    "\n",
    "| Species | Wyckoff Symbol | x   | y   | z      |\n",
    "|---------|----------------|-----|-----|--------|\n",
    "| Pb      | 1a             | 0   | 0   | 0      |\n",
    "| Ti      | 1b             | 0.5 | 0.5 | 0.5281 |\n",
    "| O       | 2c             | 0.5 | 0   | 0.6130 |\n",
    "| O       | 1b             | 0.5 | 0.5 | 0.1339 |\n",
    "\n",
    "**a.** Write the reciprocal lattice basis vectors for perovskite PbTiO<sub></sub> in terms of the crystal basis vectors **e<sub>x</sub>**, **e<sub>y</sub>**, **e<sub>z</sub>**.\n",
    "\n",
    "**b.** Determine the Bragg angles for the (011), (010), and (001) planes.\n",
    "\n",
    "**c.** Calculate the structure factors and intensities for the peaks for the (011), (010), and (001) reflections.  The atomic scattering parameter given for the elements are listed below.  Ignore Lorentz polarization factors, multiplicites or other correction factors.\n",
    "\n",
    "| Species | Z  | a1    | b1     | a2    | b2     | a3    | b3    | a4    | b4    |\n",
    "|---------|----|-------|--------|-------|--------|-------|-------|-------|-------|\n",
    "| Pb      | 82 | 3.510 | 52.914 | 4.552 | 11.884 | 3.154 | 2.571 | 1.359 | 0.321 |\n",
    "| Ti      | 22 | 3.565 | 81.982 | 2.818 | 19.049 | 1.893 | 3.590 | 0.483 | 0.386 |\n",
    "| O       | 8  | 0.455 | 23.780 | 0.917 | 7.622  | 0.472 | 2.144 | 0.138 | 0.296 |\n",
    "\n",
    "**d.** Discuss how the Lorentz polarization factors will change the relative peak intensities for the (001) and (011) reflections, i.e. I<sub>011</sub>/I<sub>001</sub>"
   ]
  },
  {
   "cell_type": "markdown",
   "metadata": {},
   "source": [
    "---"
   ]
  },
  {
   "cell_type": "markdown",
   "metadata": {},
   "source": [
    "## a)\n",
    "\n",
    "The reciprocal basis vectors are given by\n",
    "\n",
    "$\\mathbf{e_x'} = \\frac{\\mathbf{e_x}}{a}$\n",
    "\n",
    "$\\mathbf{e_y'} = \\frac{\\mathbf{e_y}}{a}$\n",
    "\n",
    "$\\mathbf{e_z'} = \\frac{\\mathbf{e_z}}{c}$"
   ]
  },
  {
   "cell_type": "markdown",
   "metadata": {},
   "source": [
    "___"
   ]
  },
  {
   "cell_type": "markdown",
   "metadata": {},
   "source": [
    "## b)\n",
    "\n",
    "The Bragg condition is given by $2d_{hkl}\\sin\\theta = \\lambda$.\n",
    "Since we know that $d_{hkl} = \\frac{1}{|\\mathbf{g_{hkl}}|}$, we have\n",
    "\n",
    "$\\theta = \\sin^{-1}(\\frac{\\lambda |\\mathbf{g_{hkl}}|}{2})$\n",
    "\n",
    "Also, because the reciprocal basis vectors are mutually orthgonal, we have the lengths simply as\n",
    "\n",
    "$|\\mathbf{g_{hkl}}| = (h^2/a^2 + k^2/a^2 + l^2 / c^2)^{1/2}$"
   ]
  },
  {
   "cell_type": "code",
   "execution_count": null,
   "metadata": {},
   "outputs": [],
   "source": [
    "import math\n",
    "\n",
    "a = 3.9039\n",
    "c = 4.1348\n",
    "\n",
    "def calculate_two_theta(hkl):\n",
    "    two_theta = 2 * math.asin(1.541 * (hkl[0] / a ** 2 + hkl[1] / a ** 2 + hkl[2] / c ** 2) ** 0.5 / 2)\n",
    "    return math.degrees(two_theta)\n",
    "\n",
    "two_thetas = {}\n",
    "for hkl in [(0, 1, 1), (0, 1, 0), (0, 0, 1)]:\n",
    "    two_theta = calculate_two_theta(hkl)\n",
    "    print \"Peak position for %s is %.1f degrees\" % (hkl, two_theta)\n",
    "    #Store this as we will use these later.\n",
    "    two_thetas[hkl] = two_theta"
   ]
  },
  {
   "cell_type": "markdown",
   "metadata": {},
   "source": [
    "---"
   ]
  },
  {
   "cell_type": "markdown",
   "metadata": {},
   "source": [
    "## c)\n",
    "\n",
    "To calculate the structure factor, we need the positions of all atoms in the unit cell. Note that one of the oxygen has Wyckoff symbol 2c. From the International Tables, we find that the orbit for this site is given by (1/2, 0, z) and (0, 1/2, z). So there are 5 atoms in the cell with positions:"
   ]
  },
  {
   "cell_type": "code",
   "execution_count": null,
   "metadata": {},
   "outputs": [],
   "source": [
    "elements = [\"Pb\", \"Ti\", \"O\", \"O\", \"O\"]\n",
    "\n",
    "coords = [\n",
    "    [0, 0, 0], \n",
    "    [0.5, 0.5, 0.5281],\n",
    "    [0.5, 0, 0.6130], \n",
    "    [0, 0.5, 0.6130], \n",
    "    [0.5, 0.5, 0.1339]\n",
    "]\n",
    "\n",
    "#We will also set up the parameters for the atomic scattering factors\n",
    "\n",
    "asf_params = {\n",
    "    \"Pb\": [82, 3.510, 52.914, 4.552, 11.884, 3.154, 2.571, 1.359, 0.321],\n",
    "    \"Ti\": [22, 3.565, 81.982, 2.818, 19.049, 1.893, 3.590, 0.483, 0.386],\n",
    "    \"O\": [8, 0.455, 23.780, 0.917, 7.622, 0.472, 2.144, 0.138, 0.296]\n",
    "}"
   ]
  },
  {
   "cell_type": "markdown",
   "metadata": {},
   "source": [
    "The atomic scattering factor is given by:\n",
    "\n",
    "$f(s) = Z - 41.78214 s^2 \\sum(a_i e ^ {-b_i s^2})$"
   ]
  },
  {
   "cell_type": "code",
   "execution_count": null,
   "metadata": {},
   "outputs": [],
   "source": [
    "wavelength = 1.541 / 10 #Convert to nm\n",
    "\n",
    "#Let's write a function to calculate the atomic scattering factor for a given element and angle. \n",
    "def get_atomic_scattering_factor(el, two_theta):\n",
    "    params = asf_params[el]\n",
    "    theta = math.radians(two_theta / 2)\n",
    "    s = math.sin(theta) / wavelength\n",
    "    return params[0] - 41.78214 * s ** 2 * sum([params[2*i + 1] * math.exp(-params[2*i + 2] * s ** 2) for i in xrange(4)])"
   ]
  },
  {
   "cell_type": "markdown",
   "metadata": {},
   "source": [
    "The structure factor is given by the sum of the atomic scattering factor times the position factor.\n",
    "\n",
    "$F_{hkl} = \\sum f_j(s) \\exp(2\\pi i (hx_j + ky_j + lz_j))$\n",
    "\n",
    "and the intensity is simply given by the modulus squared of the structure factor."
   ]
  },
  {
   "cell_type": "code",
   "execution_count": null,
   "metadata": {},
   "outputs": [],
   "source": [
    "import cmath # We need complex representation for this.\n",
    "\n",
    "I = {}\n",
    "\n",
    "for hkl in [(0, 1, 1), (0, 1, 0), (0, 0, 1)]:\n",
    "    F_hkl = 0\n",
    "    two_theta = two_thetas[hkl]\n",
    "    h, k, l = hkl\n",
    "    for el, coord in zip(elements, coords):\n",
    "        x, y, z = coord\n",
    "        F_hkl += get_atomic_scattering_factor(el, two_theta) * cmath.exp(2j * math.pi * (h * x + k * y + l * z))\n",
    "    print \"Structure factor for %s = %s\" % (hkl, str(F_hkl))\n",
    "    I_hkl = (F_hkl * F_hkl.conjugate()).real\n",
    "    I[hkl] = I_hkl\n",
    "    print \"Intensity for %s = %.0f\" % (hkl, I_hkl)"
   ]
  },
  {
   "cell_type": "markdown",
   "metadata": {},
   "source": [
    "---"
   ]
  },
  {
   "cell_type": "markdown",
   "metadata": {},
   "source": [
    "## Part d\n",
    "\n",
    "The Lorentz polarization factor has the form \n",
    "\n",
    "$L_p(\\theta) = \\frac{1 + \\cos^22\\theta}{\\sin^2\\theta cos \\theta}$"
   ]
  },
  {
   "cell_type": "code",
   "execution_count": null,
   "metadata": {},
   "outputs": [],
   "source": [
    "lp = {}\n",
    "for hkl in [(0, 1, 1), (0, 0, 1)]:\n",
    "    theta = math.radians(two_thetas[hkl] / 2)\n",
    "    lp[hkl] = (1 + math.cos(2 * theta) ** 2) / (math.sin(theta) ** 2 * math.cos(theta))\n",
    "    print \"Lorentz factor for %s = %.3f\" % (hkl, lp[hkl])"
   ]
  },
  {
   "cell_type": "code",
   "execution_count": null,
   "metadata": {},
   "outputs": [],
   "source": [
    "print \"Before correction, we have I_011/I_001 = %.4f\" % (I[(0, 1, 1)]/I[(0, 0, 1)])\n",
    "print \"After correction, we have I_011/I_001 = %.4f\" % (I[(0, 1, 1)] * lp[(0, 1, 1)] / (I[(0, 0, 1)]* lp[(0, 0, 1)]))"
   ]
  },
  {
   "cell_type": "markdown",
   "metadata": {},
   "source": [
    "Clearly, the Lorentz polarization factor has a significant impact on relative peak intensities! In this case, the relative peak intensity has decreased significantly. If you look at the experiment XRD pattern below, clearly the relative intensity is a lot closer to 0.4143 than 0.9305. The relative intensities are still wrong because there are other factors which have not been taken into account."
   ]
  },
  {
   "cell_type": "code",
   "execution_count": null,
   "metadata": {},
   "outputs": [],
   "source": [
    "from IPython.display import Image, display\n",
    "display(Image(filename=('./PbTiO3.png')))"
   ]
  },
  {
   "cell_type": "markdown",
   "metadata": {},
   "source": [
    "This is not part of the question, but just to show the actual computed pattern after taking all factors into account, which shows much better agreement with the experimental pattern."
   ]
  },
  {
   "cell_type": "code",
   "execution_count": null,
   "metadata": {},
   "outputs": [],
   "source": [
    "import pymatgen\n",
    "from pymatgen.analysis.diffraction.xrd import XRDCalculator\n",
    "%matplotlib inline\n",
    "\n",
    "c = XRDCalculator()\n",
    "c.get_xrd_plot(pymatgen.Structure.from_file(\"PbTiO3.cif\"))"
   ]
  },
  {
   "cell_type": "code",
   "execution_count": null,
   "metadata": {
    "collapsed": true
   },
   "outputs": [],
   "source": []
  }
 ],
 "metadata": {
  "kernelspec": {
   "display_name": "Python 2",
   "language": "python",
   "name": "python2"
  },
  "language_info": {
   "codemirror_mode": {
    "name": "ipython",
    "version": 2
   },
   "file_extension": ".py",
   "mimetype": "text/x-python",
   "name": "python",
   "nbconvert_exporter": "python",
   "pygments_lexer": "ipython2",
   "version": "2.7.13"
  },
  "latex_envs": {
   "LaTeX_envs_menu_present": true,
   "autocomplete": true,
   "bibliofile": "biblio.bib",
   "cite_by": "apalike",
   "current_citInitial": 1,
   "eqLabelWithNumbers": true,
   "eqNumInitial": 1,
   "hotkeys": {
    "equation": "Ctrl-E",
    "itemize": "Ctrl-I"
   },
   "labels_anchors": false,
   "latex_user_defs": false,
   "report_style_numbering": false,
   "user_envs_cfg": false
  },
  "toc": {
   "colors": {
    "hover_highlight": "#DAA520",
    "navigate_num": "#000000",
    "navigate_text": "#333333",
    "running_highlight": "#FF0000",
    "selected_highlight": "#FFD700",
    "sidebar_border": "#EEEEEE",
    "wrapper_background": "#FFFFFF"
   },
   "moveMenuLeft": true,
   "nav_menu": {
    "height": "102px",
    "width": "252px"
   },
   "navigate_menu": true,
   "number_sections": true,
   "sideBar": true,
   "threshold": 4,
   "toc_cell": false,
   "toc_section_display": "block",
   "toc_window_display": false,
   "widenNotebook": false
  }
 },
 "nbformat": 4,
 "nbformat_minor": 1
}
