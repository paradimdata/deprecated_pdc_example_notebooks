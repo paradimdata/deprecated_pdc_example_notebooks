{
 "cells": [
  {
   "cell_type": "markdown",
   "metadata": {},
   "source": [
    "Elbert, 2017. Based on sample iPython notebook at: https://www.mantidproject.org/Using_IPython_Notebook"
   ]
  },
  {
   "cell_type": "markdown",
   "metadata": {},
   "source": [
    "## <span style=\"background-color: #FFFF00\">Introduction to Mantid</span>\n",
    "\n",
    ">O. Arnold, et al., Mantid—Data analysis and visualization package for neutron scattering and μSR experiments, Nuclear Instruments and Methods in Physics Research Section A, Volume 764, 11 November 2014, Pages 156-166, http://dx.doi.org/10.1016/j.nima.2014.07.029\n",
    "\n",
    "The Mantid Project is a high-performance framework created to manipulate and analyze neutron scattering and muon spectroscopy data. Mantid is developed and in use at ISIS, ILL, and the SNS.\n",
    "\n",
    "The Mantid Framework exposes its functionality through a Python API (application programming interface). This interface is the same one accessible through MantidPlot's script windows.\n",
    "\n",
    "In this introduction, we will be using Mantid's Python API, and matplotlib. Basic knowledge of Python, Mantid, and Jupyter notebooks is helpful. Mantid documentation can be found online at: https://www.mantidproject.org/Documentation"
   ]
  },
  {
   "cell_type": "markdown",
   "metadata": {},
   "source": [
    "## Initialization\n",
    "\n",
    "Mantid in the MEDE Container is installed in a virtual Python 2.7.x environment called py27mantid. That isolates the installation from other packages that may be incompatible with Mantid. Before you can start work you must activate the virtual environment, provide the system with a path to Mantid, and then import Mantid's Python API.  That is handled by three simple commands:"
   ]
  },
  {
   "cell_type": "markdown",
   "metadata": {},
   "source": [
    "### Setup Mantid"
   ]
  },
  {
   "cell_type": "code",
   "execution_count": null,
   "metadata": {
    "collapsed": true
   },
   "outputs": [],
   "source": [
    "import sys\n",
    "import os\n",
    "sys.path.append(\"/home/idies/anaconda3/envs/py27mantid/lib/python2.7/site-packages/mantid/\");\n",
    "from mantid.simpleapi import *\n"
   ]
  },
  {
   "cell_type": "markdown",
   "metadata": {},
   "source": [
    "If you receive an error, Mantid may not be properly installed. If you are sure it is installed correctly, and you know where, you can manually specify where it can be found before importing it like this:\n",
    "\n",
    "```python\n",
    "sys.path.append(\"/path/to/Mantid\")\n",
    "from mantid.simpleapi import *\n",
    "```"
   ]
  },
  {
   "cell_type": "code",
   "execution_count": null,
   "metadata": {
    "collapsed": true
   },
   "outputs": [],
   "source": [
    "import sys\n",
    "print sys.version"
   ]
  },
  {
   "cell_type": "markdown",
   "metadata": {},
   "source": [
    "### Importing matplotlib\n",
    "\n",
    "To plot our data inside our Notebook we use a Python module called \"matplotlib\".\n",
    "Importing it is easy. We also set it up to return the plots in the notebook, rather than in some other window or file, by using the inline command:"
   ]
  },
  {
   "cell_type": "code",
   "execution_count": null,
   "metadata": {
    "collapsed": true
   },
   "outputs": [],
   "source": [
    "#Import matplotlib's pyplot interface under the name 'plt'\n",
    "import matplotlib.pyplot as plt\n",
    "\n",
    "#Some magic to tell matplotlib how to behave in IPython Notebook\n",
    "%matplotlib inline"
   ]
  },
  {
   "cell_type": "markdown",
   "metadata": {},
   "source": [
    "## Using the Mantid Framework\n",
    "\n",
    "Now that we have the Mantid Framework imported we can use it just like we would in the dedicated app MantidPlot. The difference is that in a Notebook we have a complete record of what we've done. It can be reproduced, modified, or given to someone else to use.  We'll start by checking our working directory and then loading some data from the ISIS pulsed neutron source facility:"
   ]
  },
  {
   "cell_type": "code",
   "execution_count": null,
   "metadata": {
    "collapsed": true
   },
   "outputs": [],
   "source": [
    "pwd"
   ]
  },
  {
   "cell_type": "markdown",
   "metadata": {},
   "source": [
    "The following are Mantid commands to load a histogram data file (working directly with the .nxs file from the beamline) and then create some point data values:"
   ]
  },
  {
   "cell_type": "code",
   "execution_count": null,
   "metadata": {
    "collapsed": true
   },
   "outputs": [],
   "source": [
    "#Load some histogram data\n",
    "hist_data = Load(\"INTER00013460.nxs\")\n",
    "\n",
    "#Create some point data\n",
    "from math import sin, cos, exp\n",
    "x_values = range(100)\n",
    "sin_data = CreateWorkspace(x_values, map((lambda x: -x * sin(x * 0.1)), x_values))\n",
    "cos_data = CreateWorkspace(x_values, map((lambda x: 10 * cos(x * 0.25)), x_values))\n",
    "exp_data = CreateWorkspace(x_values, map((lambda x: exp(x) * (1 + sin (x))), x_values))"
   ]
  },
  {
   "cell_type": "markdown",
   "metadata": {},
   "source": [
    "A workspace's data can be accessed using the `readY`, `readX`, and `readE` functions. They each take the workspace indices (the same as a spectrum id, minus one) as a parameter and return an array in NumPy format."
   ]
  },
  {
   "cell_type": "markdown",
   "metadata": {},
   "source": [
    "### Plotting Point Data\n",
    "\n",
    "Point data is the simplest to plot, and can be passed directly to matplotlib for plotting.\n",
    "\n",
    "Creating a simple linear plot is a single Mantid command, here with a few options:"
   ]
  },
  {
   "cell_type": "code",
   "execution_count": null,
   "metadata": {
    "collapsed": true
   },
   "outputs": [],
   "source": [
    "#Plot a single curve\n",
    "plt.plot(sin_data.readX(0), sin_data.readY(0)) #Plot the first spectrum (workspace index 0) of point_data\n",
    "plt.title(\"The title of the plot\")\n",
    "plt.show() #Draw the plot"
   ]
  },
  {
   "cell_type": "markdown",
   "metadata": {},
   "source": [
    "It's easy to produce a more sophisticated plot. Let's try plotting two curves simultaneously this time, with a grid and a legend."
   ]
  },
  {
   "cell_type": "code",
   "execution_count": null,
   "metadata": {
    "collapsed": true
   },
   "outputs": [],
   "source": [
    "#Plot multiple curves\n",
    "plt.plot(sin_data.readX(0), sin_data.readY(0), label=\"-x * sin(x / 10)\")\n",
    "plt.plot(cos_data.readX(0), cos_data.readY(0), label=\"10 * cos(x / 4)\")\n",
    "plt.title(\"The title of the plot\")\n",
    "plt.grid() #Show a grid\n",
    "plt.legend() #Show a legend\n",
    "plt.show() #Draw the plot"
   ]
  },
  {
   "cell_type": "markdown",
   "metadata": {},
   "source": [
    "What if we have some kind of exponential function and we would like a logarithmic plot?\n",
    "\n",
    "Well, we can set the scale of an axis like this:\n",
    "\n",
    "```python\n",
    "plt.xscale(\"linear\")\n",
    "plt.yscale(\"log\")\n",
    "```\n",
    "\n",
    "Further details on setting the scale can be found here: http://matplotlib.org/1.3.1/api/pyplot_api.html#matplotlib.pyplot.xscale"
   ]
  },
  {
   "cell_type": "code",
   "execution_count": null,
   "metadata": {
    "collapsed": true
   },
   "outputs": [],
   "source": [
    "#Plot\n",
    "plt.plot(exp_data.readX(0), exp_data.readY(0))\n",
    "plt.title(\"exp(x) * (1 + sin(x))\")\n",
    "plt.yscale(\"log\") #Set the Y scale to be logarithmic\n",
    "plt.show()"
   ]
  },
  {
   "cell_type": "markdown",
   "metadata": {},
   "source": [
    "### Plotting Histogram Data\n",
    "\n",
    "Histogram data is a little tricker to plot. **Y values are inversely proportional to their bin widths**, which may cause your plots to appear inaccurate. This can be resolved by rebinning the data with a bin width of `1`.\n",
    "\n",
    "Excel users know how tricky it can be to properly bin data like this.  One great advantage of working in the notebook environment is that the work is transparent so it can be reviewed or debugged to prevent errors."
   ]
  },
  {
   "cell_type": "code",
   "execution_count": null,
   "metadata": {
    "collapsed": true
   },
   "outputs": [],
   "source": [
    "#Rebin the data to normalise the Y values\n",
    "rebinned_hist_data = Rebin(hist_data, Params=\"5,1,100000\") # startx = 5, binwidth = 1, endx = 100000"
   ]
  },
  {
   "cell_type": "markdown",
   "metadata": {},
   "source": [
    "The last step before being able to plot the histogram data is to convert it to point data. This is required because Mantid stores the bin boundaries in the X axis, and values for the Y axis, and matplotlib expects X,Y value pairs. The `ConvertToPointData` algorithm corrects the X axis for plotting."
   ]
  },
  {
   "cell_type": "code",
   "execution_count": null,
   "metadata": {
    "collapsed": true
   },
   "outputs": [],
   "source": [
    "#Convert to a format matplotlib can plot\n",
    "pdata = ConvertToPointData(rebinned_hist_data)"
   ]
  },
  {
   "cell_type": "markdown",
   "metadata": {},
   "source": [
    "We now have the data in a format suitable for plotting with matplotlib. The actual plot function is similar to something from Mathematica or Matlab with lots of options available to add labels or control stylistic things. "
   ]
  },
  {
   "cell_type": "code",
   "execution_count": null,
   "metadata": {
    "collapsed": true
   },
   "outputs": [],
   "source": [
    "#Plot\n",
    "plt.plot(pdata.readX(3), pdata.readY(3)) #Plot the fourth spectrum (workspace id 3)\n",
    "plt.title(\"INTER13460\")\n",
    "plt.xlabel(\"Time-of-Flight (micro-seconds)\")\n",
    "plt.ylabel(\"Counts\")\n",
    "#Use scientific notation for the x axis\n",
    "plt.ticklabel_format(style='sci', axis='x', scilimits=(0,0))\n",
    "plt.grid()\n",
    "plt.show()"
   ]
  },
  {
   "cell_type": "markdown",
   "metadata": {},
   "source": [
    "We can make use of any Mantid algorithms we like to transform the data, and plot the results. For example, you may want to smooth the data. "
   ]
  },
  {
   "cell_type": "code",
   "execution_count": null,
   "metadata": {
    "collapsed": true
   },
   "outputs": [],
   "source": [
    "#Smooth the data\n",
    "smoothed = SmoothData(rebinned_hist_data, npoints = 1000)\n",
    "spdata = ConvertToPointData(smoothed)"
   ]
  },
  {
   "cell_type": "code",
   "execution_count": null,
   "metadata": {
    "collapsed": true
   },
   "outputs": [],
   "source": [
    "#Plot\n",
    "plt.plot(spdata.readX(3), spdata.readY(3), color=\"red\", linewidth=2) #Custom colour and linewidth can be specified\n",
    "plt.title(\"INTER13460 Smoothed\")\n",
    "plt.xlabel(\"Time-of-Flight (micro-seconds)\")\n",
    "plt.ylabel(\"Counts\")\n",
    "plt.ticklabel_format(style='sci', axis='x', scilimits=(0,0))\n",
    "plt.grid()\n",
    "plt.show()"
   ]
  },
  {
   "cell_type": "markdown",
   "metadata": {},
   "source": [
    "It is also possible to run entire workflow algorithms and plot their output."
   ]
  },
  {
   "cell_type": "code",
   "execution_count": null,
   "metadata": {
    "collapsed": true
   },
   "outputs": [],
   "source": [
    "#Process\n",
    "IvsQ, _, _ = ReflectometryReductionOneAuto(rebinned_hist_data, ThetaIn=0.7)\n",
    "IvsQ_point = ConvertToPointData(IvsQ)"
   ]
  },
  {
   "cell_type": "code",
   "execution_count": null,
   "metadata": {
    "collapsed": true
   },
   "outputs": [],
   "source": [
    "#Plot\n",
    "plt.plot(IvsQ_point.readX(0), IvsQ_point.readY(0))\n",
    "plt.title(\"INTER13460 Reduced\")\n",
    "plt.xscale(\"log\")\n",
    "plt.yscale(\"log\")\n",
    "plt.xlabel(\"Momentum Transfer\")\n",
    "plt.ylabel(\"Counts\")\n",
    "plt.grid()\n",
    "plt.show()"
   ]
  },
  {
   "cell_type": "markdown",
   "metadata": {},
   "source": [
    "## Further Reading\n",
    "\n",
    "You should now have a good idea of how to incorporate the data processing capabilities of Mantid into your IPython notebooks, and how to use the matplotlib library to plot Mantid workspaces.\n",
    "\n",
    "If there is more you would like to know, more detailed documentation can be found here:\n",
    "* [Mantid Framework Python API Reference](http://docs.mantidproject.org/nightly/api/python/index.html)\n",
    "* [IPython Notebook Documentation](http://ipython.org/ipython-doc/stable/notebook/)\n",
    "* [matplotlib Documentation](http://matplotlib.org/contents.html)"
   ]
  }
 ],
 "metadata": {
  "kernelspec": {
   "display_name": "Python 2",
   "language": "python",
   "name": "python2"
  },
  "language_info": {
   "codemirror_mode": {
    "name": "ipython",
    "version": 2
   },
   "file_extension": ".py",
   "mimetype": "text/x-python",
   "name": "python",
   "nbconvert_exporter": "python",
   "pygments_lexer": "ipython2",
   "version": "2.7.13"
  }
 },
 "nbformat": 4,
 "nbformat_minor": 1
}
