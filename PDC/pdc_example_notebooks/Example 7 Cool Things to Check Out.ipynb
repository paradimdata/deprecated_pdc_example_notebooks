{
 "cells": [
  {
   "cell_type": "markdown",
   "metadata": {},
   "source": [
    "## Links to Checkout\n",
    "\n",
    "You can Google to find anything you want, but here are a few nice places to look if you want to see more:\n",
    "\n",
    "1.  Algorithms in Python: https://github.com/rasbt/algorithms_in_ipython_notebooks\n",
    "2.  Chemical Engineering Analysis (some great notebooks showing all kinds of useful Python): http://jckantor.github.io/CBE20255/\n",
    "3.  One version of Big Data Science in Python: https://github.com/phelps-sg/python-bigdata/blob/master/README.md\n",
    "      *  The first two notebooks on Programming in Python and Numerical Computing in Python are worth a look.\n",
    "4.   A gallery of interesting notebooks – always cool: https://github.com/jupyter/jupyter/wiki/A-gallery-of-interesting-Jupyter-Notebooks      \n",
    "  \n"
   ]
  },
  {
   "cell_type": "code",
   "execution_count": null,
   "metadata": {
    "collapsed": true
   },
   "outputs": [],
   "source": []
  }
 ],
 "metadata": {
  "kernelspec": {
   "display_name": "Python 2",
   "language": "python",
   "name": "python2"
  },
  "language_info": {
   "codemirror_mode": {
    "name": "ipython",
    "version": 2
   },
   "file_extension": ".py",
   "mimetype": "text/x-python",
   "name": "python",
   "nbconvert_exporter": "python",
   "pygments_lexer": "ipython2",
   "version": "2.7.13"
  }
 },
 "nbformat": 4,
 "nbformat_minor": 2
}
